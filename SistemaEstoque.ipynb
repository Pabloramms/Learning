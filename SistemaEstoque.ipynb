{
  "nbformat": 4,
  "nbformat_minor": 0,
  "metadata": {
    "colab": {
      "provenance": [],
      "authorship_tag": "ABX9TyOkoex2lZPX7O79R97ljbzX",
      "include_colab_link": true
    },
    "kernelspec": {
      "name": "python3",
      "display_name": "Python 3"
    },
    "language_info": {
      "name": "python"
    }
  },
  "cells": [
    {
      "cell_type": "markdown",
      "metadata": {
        "id": "view-in-github",
        "colab_type": "text"
      },
      "source": [
        "<a href=\"https://colab.research.google.com/github/Pabloramms/Learning/blob/main/SistemaEstoque.ipynb\" target=\"_parent\"><img src=\"https://colab.research.google.com/assets/colab-badge.svg\" alt=\"Open In Colab\"/></a>"
      ]
    },
    {
      "cell_type": "code",
      "execution_count": null,
      "metadata": {
        "id": "0ufY4JVjyRam"
      },
      "outputs": [],
      "source": [
        "estoque = {}\n",
        "\n",
        "def menu():\n",
        "  print(\"1 - Adicionar novo produto\")\n",
        "  print(\"2 - Atualizar produto\")\n",
        "  print(\"3 - Atualizar a quantidade em estoque\")\n",
        "  print(\"4 - Remover produto\")\n",
        "  print(\"5 - Exibir todos os produtos\")\n",
        "  print(\"6 - Encontrar produto mais caro\")\n",
        "  print(\"7 - Sair\")\n",
        "\n",
        "\n",
        "while True:\n",
        "  menu()\n",
        "  opcao = input(\"Selecione uma opção:\")\n",
        "\n",
        "  if opcao ==\"1\":\n",
        "    nome = input(\"Nome do produto:\")\n",
        "    if nome in estoque:\n",
        "      print(\"Produto já existe\")\n",
        "    else:\n",
        "      preco = float(input(\"Preço do produto:\"))\n",
        "      quantidade = int(input(\"Quantidade em estoque:\"))\n",
        "      estoque[nome] = {\"preço\":preco,\"quantidade\":quantidade}\n",
        "      print(f\"Produto {nome} adicionado com sucesso\")\n",
        "  elif opcao ==\"2\":\n",
        "    nome = input(\"Nome do produto:\")\n",
        "    if nome in estoque:\n",
        "      novo_preco = float(input(\"Novo preço:\"))\n",
        "      estoque[nome][\"Preço\"] = novo_preco\n",
        "      print(f\"Produto {nome} atualizado com sucesso\")\n",
        "    else:\n",
        "      print(\"Produto não encontrado\")\n",
        "  elif opcao ==\"3\":\n",
        "    nome = input(\"Nome do produto:\")\n",
        "    if nome in estoque:\n",
        "      nova_quantidade = float(input(\"Nova quantidade:\"))\n",
        "      estoque[nome][\"Quantidade\"] = nova_quantidade\n",
        "      print(f\"Quantidade de {nome} atualizada com sucesso\")\n",
        "  elif opcao ==\"4\":\n",
        "    nome = input(\"Nome do produto:\")\n",
        "    if nome in estoque:\n",
        "      del estoque[nome]\n",
        "      print(f\"Produto {nome} removido do estoque\")\n",
        "  elif opcao ==\"5\":\n",
        "    if estoque:\n",
        "      print(\"Produtos em estoque:\")\n",
        "      for nomes, dados in estoque.items():\n",
        "        print(f\"{nome} - Preço:{dados['preco']} - Quantidade: {dados['quantidade']}\")\n",
        "    else:\n",
        "      print(\"Nenhum produto encontrado\")\n",
        "  elif opcao ==\"6\":\n",
        "    if estoque:\n",
        "        produto_mais_caro = None\n",
        "        maior_preco = 0\n",
        "        for nome, dados in estoque.items():\n",
        "            if dados[\"preco\"] > maior_preco or produto_mais_caro is None:\n",
        "                maior_preco = dados[\"preco\"]\n",
        "                produto_mais_caro = nome\n",
        "\n",
        "        print(f\"Produto mais caro: {produto_mais_caro} - R$ {maior_preco:.2f}\")\n",
        "    else:\n",
        "      print(\"Estoque vazio.\")\n",
        "  elif opcao==\"7\":\n",
        "      print(\"Programa encerrado\")\n",
        "      break\n",
        "  else:\n",
        "      print(\"Opção inválida\")"
      ]
    }
  ]
}